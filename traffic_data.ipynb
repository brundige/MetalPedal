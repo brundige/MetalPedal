{
 "cells": [
  {
   "cell_type": "code",
   "execution_count": 88,
   "id": "initial_id",
   "metadata": {
    "collapsed": true,
    "ExecuteTime": {
     "end_time": "2023-12-18T17:22:20.723094Z",
     "start_time": "2023-12-18T17:22:20.713461Z"
    }
   },
   "outputs": [],
   "source": [
    "import pandas as pd\n",
    "from sklearn.preprocessing import LabelEncoder\n"
   ]
  },
  {
   "cell_type": "code",
   "execution_count": 89,
   "outputs": [],
   "source": [
    "df = pd.read_csv('ps.csv')"
   ],
   "metadata": {
    "collapsed": false,
    "ExecuteTime": {
     "end_time": "2023-12-18T17:22:20.978458Z",
     "start_time": "2023-12-18T17:22:20.963227Z"
    }
   },
   "id": "310dfe99ff893883"
  },
  {
   "cell_type": "code",
   "execution_count": 90,
   "outputs": [
    {
     "data": {
      "text/plain": "  Incident Number           Incident Date  Time Num               Street  \\\n0       23-101216  09/15/2023 11:00:00 PM      23.0       2100 Market St   \n1       23-102526  09/19/2023 04:45:00 PM      17.0        4505 10th Ave   \n2       23-105265  09/27/2023 05:50:00 AM       6.0  4011 Rossville Blvd   \n3       23-105569  09/27/2023 08:06:00 PM      20.0             E 3rd St   \n4       23-108143  10/04/2023 04:57:00 PM      17.0         Mccallie Ave   \n\n  Alt Street         City    County     Intersection  Mile Post  \\\n0        NaN  Chattanooga  Hamilton        W 21st St        NaN   \n1        NaN  Chattanooga  Hamilton        E 45th St        NaN   \n2        NaN  Chattanooga  Hamilton        E 41st St        NaN   \n3        NaN  Chattanooga  Hamilton  N Holtzclaw Ave        NaN   \n4        NaN  Chattanooga  Hamilton      S Willow St        NaN   \n\n            Accident Type  ... Weather Code Pedestrian Involved  \\\n0                   Fatal  ...        Clear                 Yes   \n1         Possible Injury  ...        Clear                 Yes   \n2  Suspected Minor Injury  ...        Clear                 Yes   \n3         Possible Injury  ...         Rain                 Yes   \n4         Possible Injury  ...        Clear                 Yes   \n\n  Bicycle Involved Drug Involved Alcohol Involved   Latitude  Longitude  \\\n0               No           Yes              Yes  35.030156 -85.308327   \n1               No            No               No  34.990735 -85.288301   \n2               No            No               No  34.995172 -85.290933   \n3               No            No               No  35.043663 -85.279720   \n4               No            No               No  35.034847 -85.271845   \n\n                   Location WKT                 Location  \\\n0  POINT (-85.308327 35.030156)  (35.030156, -85.308327)   \n1  POINT (-85.288301 34.990735)  (34.990735, -85.288301)   \n2  POINT (-85.290933 34.995172)  (34.995172, -85.290933)   \n3   POINT (-85.27972 35.043663)  (35.043663, -85.279720)   \n4  POINT (-85.271845 35.034847)  (35.034847, -85.271845)   \n\n           Light Condition  \n0           Dark - Lighted  \n1                 Daylight  \n2  Dark - Unknown Lighting  \n3           Dark - Lighted  \n4                 Daylight  \n\n[5 rows x 27 columns]",
      "text/html": "<div>\n<style scoped>\n    .dataframe tbody tr th:only-of-type {\n        vertical-align: middle;\n    }\n\n    .dataframe tbody tr th {\n        vertical-align: top;\n    }\n\n    .dataframe thead th {\n        text-align: right;\n    }\n</style>\n<table border=\"1\" class=\"dataframe\">\n  <thead>\n    <tr style=\"text-align: right;\">\n      <th></th>\n      <th>Incident Number</th>\n      <th>Incident Date</th>\n      <th>Time Num</th>\n      <th>Street</th>\n      <th>Alt Street</th>\n      <th>City</th>\n      <th>County</th>\n      <th>Intersection</th>\n      <th>Mile Post</th>\n      <th>Accident Type</th>\n      <th>...</th>\n      <th>Weather Code</th>\n      <th>Pedestrian Involved</th>\n      <th>Bicycle Involved</th>\n      <th>Drug Involved</th>\n      <th>Alcohol Involved</th>\n      <th>Latitude</th>\n      <th>Longitude</th>\n      <th>Location WKT</th>\n      <th>Location</th>\n      <th>Light Condition</th>\n    </tr>\n  </thead>\n  <tbody>\n    <tr>\n      <th>0</th>\n      <td>23-101216</td>\n      <td>09/15/2023 11:00:00 PM</td>\n      <td>23.0</td>\n      <td>2100 Market St</td>\n      <td>NaN</td>\n      <td>Chattanooga</td>\n      <td>Hamilton</td>\n      <td>W 21st St</td>\n      <td>NaN</td>\n      <td>Fatal</td>\n      <td>...</td>\n      <td>Clear</td>\n      <td>Yes</td>\n      <td>No</td>\n      <td>Yes</td>\n      <td>Yes</td>\n      <td>35.030156</td>\n      <td>-85.308327</td>\n      <td>POINT (-85.308327 35.030156)</td>\n      <td>(35.030156, -85.308327)</td>\n      <td>Dark - Lighted</td>\n    </tr>\n    <tr>\n      <th>1</th>\n      <td>23-102526</td>\n      <td>09/19/2023 04:45:00 PM</td>\n      <td>17.0</td>\n      <td>4505 10th Ave</td>\n      <td>NaN</td>\n      <td>Chattanooga</td>\n      <td>Hamilton</td>\n      <td>E 45th St</td>\n      <td>NaN</td>\n      <td>Possible Injury</td>\n      <td>...</td>\n      <td>Clear</td>\n      <td>Yes</td>\n      <td>No</td>\n      <td>No</td>\n      <td>No</td>\n      <td>34.990735</td>\n      <td>-85.288301</td>\n      <td>POINT (-85.288301 34.990735)</td>\n      <td>(34.990735, -85.288301)</td>\n      <td>Daylight</td>\n    </tr>\n    <tr>\n      <th>2</th>\n      <td>23-105265</td>\n      <td>09/27/2023 05:50:00 AM</td>\n      <td>6.0</td>\n      <td>4011 Rossville Blvd</td>\n      <td>NaN</td>\n      <td>Chattanooga</td>\n      <td>Hamilton</td>\n      <td>E 41st St</td>\n      <td>NaN</td>\n      <td>Suspected Minor Injury</td>\n      <td>...</td>\n      <td>Clear</td>\n      <td>Yes</td>\n      <td>No</td>\n      <td>No</td>\n      <td>No</td>\n      <td>34.995172</td>\n      <td>-85.290933</td>\n      <td>POINT (-85.290933 34.995172)</td>\n      <td>(34.995172, -85.290933)</td>\n      <td>Dark - Unknown Lighting</td>\n    </tr>\n    <tr>\n      <th>3</th>\n      <td>23-105569</td>\n      <td>09/27/2023 08:06:00 PM</td>\n      <td>20.0</td>\n      <td>E 3rd St</td>\n      <td>NaN</td>\n      <td>Chattanooga</td>\n      <td>Hamilton</td>\n      <td>N Holtzclaw Ave</td>\n      <td>NaN</td>\n      <td>Possible Injury</td>\n      <td>...</td>\n      <td>Rain</td>\n      <td>Yes</td>\n      <td>No</td>\n      <td>No</td>\n      <td>No</td>\n      <td>35.043663</td>\n      <td>-85.279720</td>\n      <td>POINT (-85.27972 35.043663)</td>\n      <td>(35.043663, -85.279720)</td>\n      <td>Dark - Lighted</td>\n    </tr>\n    <tr>\n      <th>4</th>\n      <td>23-108143</td>\n      <td>10/04/2023 04:57:00 PM</td>\n      <td>17.0</td>\n      <td>Mccallie Ave</td>\n      <td>NaN</td>\n      <td>Chattanooga</td>\n      <td>Hamilton</td>\n      <td>S Willow St</td>\n      <td>NaN</td>\n      <td>Possible Injury</td>\n      <td>...</td>\n      <td>Clear</td>\n      <td>Yes</td>\n      <td>No</td>\n      <td>No</td>\n      <td>No</td>\n      <td>35.034847</td>\n      <td>-85.271845</td>\n      <td>POINT (-85.271845 35.034847)</td>\n      <td>(35.034847, -85.271845)</td>\n      <td>Daylight</td>\n    </tr>\n  </tbody>\n</table>\n<p>5 rows × 27 columns</p>\n</div>"
     },
     "execution_count": 90,
     "metadata": {},
     "output_type": "execute_result"
    }
   ],
   "source": [
    "df.head()"
   ],
   "metadata": {
    "collapsed": false,
    "ExecuteTime": {
     "end_time": "2023-12-18T17:22:21.186028Z",
     "start_time": "2023-12-18T17:22:21.182258Z"
    }
   },
   "id": "3a0f87edfa71d1dc"
  },
  {
   "cell_type": "code",
   "execution_count": 91,
   "outputs": [
    {
     "data": {
      "text/plain": "array(['Fatal', 'Possible Injury', 'Suspected Minor Injury',\n       'Property Damage Under', 'Suspected Serious Injury',\n       'Property Damage'], dtype=object)"
     },
     "execution_count": 91,
     "metadata": {},
     "output_type": "execute_result"
    }
   ],
   "source": [
    "# get unique values for light condition\n",
    "df['Light Condition'].unique()\n",
    "df['Weather Code'].unique()\n",
    "df['Accident Type'].unique()"
   ],
   "metadata": {
    "collapsed": false,
    "ExecuteTime": {
     "end_time": "2023-12-18T17:22:21.392121Z",
     "start_time": "2023-12-18T17:22:21.385950Z"
    }
   },
   "id": "66fb7d90af907314"
  },
  {
   "cell_type": "code",
   "execution_count": 91,
   "outputs": [],
   "source": [
    "\n"
   ],
   "metadata": {
    "collapsed": false,
    "ExecuteTime": {
     "end_time": "2023-12-18T17:22:21.566888Z",
     "start_time": "2023-12-18T17:22:21.561179Z"
    }
   },
   "id": "4156b84560c68d21"
  },
  {
   "cell_type": "code",
   "execution_count": 92,
   "outputs": [],
   "source": [
    "# lets seperate indicent date into year, month, day of week, hour\n",
    "df['Incident Date'] = pd.to_datetime(df['Incident Date'])\n",
    "df['year'] = df['Incident Date'].dt.year\n",
    "df['month'] = df['Incident Date'].dt.month\n",
    "df['day'] = df['Incident Date'].dt.day\n",
    "df['hour'] = df['Incident Date'].dt.hour\n",
    "df['day_of_week'] = df['Incident Date'].dt.dayofweek\n",
    "\n",
    "\n",
    "\n",
    "# replace all yes and no with 1 and 0\n",
    "for col in df.columns:\n",
    "    df[col] = df[col].replace('Yes', 1)\n",
    "    df[col] = df[col].replace('No', 0)\n",
    "    "
   ],
   "metadata": {
    "collapsed": false,
    "ExecuteTime": {
     "end_time": "2023-12-18T17:22:22.418920Z",
     "start_time": "2023-12-18T17:22:22.398856Z"
    }
   },
   "id": "79131007db920f86"
  },
  {
   "cell_type": "code",
   "execution_count": 93,
   "outputs": [],
   "source": [
    "# rename bicycle involved column\n",
    "df.rename(columns={'Bicycle Involved':'bicycle'}, inplace=True)\n",
    "df.rename(columns={'Pedestrian Involved':'pedestrian'}, inplace=True)\n",
    "df.rename(columns={'Involved Fatal Injury':'fatal'}, inplace=True)\n",
    "df.rename(columns={'Involved Medical Transport':'EMSTransport'}, inplace=True)\n",
    "df.rename(columns={'Alcohol Involved':'etoh'}, inplace=True)\n",
    "df.rename(columns={'Drug Involved':'drug'}, inplace=True)\n"
   ],
   "metadata": {
    "collapsed": false,
    "ExecuteTime": {
     "end_time": "2023-12-18T17:22:23.133230Z",
     "start_time": "2023-12-18T17:22:23.128154Z"
    }
   },
   "id": "9fad8bd41b519c2e"
  },
  {
   "cell_type": "code",
   "execution_count": 97,
   "outputs": [
    {
     "data": {
      "text/plain": "                  Street     Intersection  fatal  EMSTransport  Posted Speed  \\\n0         2100 Market St        W 21st St      1             1          35.0   \n1          4505 10th Ave        E 45th St      0             0          30.0   \n2    4011 Rossville Blvd        E 41st St      0             1          45.0   \n3               E 3rd St  N Holtzclaw Ave      0             1          35.0   \n4           Mccallie Ave      S Willow St      0             1          35.0   \n..                   ...              ...    ...           ...           ...   \n629        727 E 11th St   Peeples Street      0             1          30.0   \n630    4700 Midland Pike   N Parkdale Ave      0             1          45.0   \n631    1700 Gunbarrel Rd         Crane Rd      0             1          35.0   \n632     1300 Central Ave        E 13th St      1             1          55.0   \n633         311 Broad St         W 3rd St      0             1          30.0   \n\n    Weather Code  pedestrian  bicycle  drug  etoh   Latitude  Longitude  \\\n0          Clear           1        0   1.0   1.0  35.030156 -85.308327   \n1          Clear           1        0   0.0   0.0  34.990735 -85.288301   \n2          Clear           1        0   0.0   0.0  34.995172 -85.290933   \n3           Rain           1        0   0.0   0.0  35.043663 -85.279720   \n4          Clear           1        0   0.0   0.0  35.034847 -85.271845   \n..           ...         ...      ...   ...   ...        ...        ...   \n629        Clear           1        0   0.0   0.0  35.040477 -85.299892   \n630        Clear           1        0   0.0   0.0  35.027370 -85.224889   \n631        Clear           1        0   0.0   0.0  35.021618 -85.160209   \n632        Clear           1        0   0.0   0.0  35.033943 -85.295302   \n633        Clear           1        0   0.0   0.0  35.012954 -85.228277   \n\n             Light Condition  year  month  day  hour  day_of_week  \n0             Dark - Lighted  2023      9   15    23            4  \n1                   Daylight  2023      9   19    16            1  \n2    Dark - Unknown Lighting  2023      9   27     5            2  \n3             Dark - Lighted  2023      9   27    20            2  \n4                   Daylight  2023     10    4    16            2  \n..                       ...   ...    ...  ...   ...          ...  \n629                 Daylight  2023      8   26    13            5  \n630                 Daylight  2023      9    1    12            4  \n631                 Daylight  2023      9    5    10            1  \n632  Dark - Unknown Lighting  2023      9    8     6            4  \n633           Dark - Lighted  2023      3    4    20            5  \n\n[634 rows x 18 columns]",
      "text/html": "<div>\n<style scoped>\n    .dataframe tbody tr th:only-of-type {\n        vertical-align: middle;\n    }\n\n    .dataframe tbody tr th {\n        vertical-align: top;\n    }\n\n    .dataframe thead th {\n        text-align: right;\n    }\n</style>\n<table border=\"1\" class=\"dataframe\">\n  <thead>\n    <tr style=\"text-align: right;\">\n      <th></th>\n      <th>Street</th>\n      <th>Intersection</th>\n      <th>fatal</th>\n      <th>EMSTransport</th>\n      <th>Posted Speed</th>\n      <th>Weather Code</th>\n      <th>pedestrian</th>\n      <th>bicycle</th>\n      <th>drug</th>\n      <th>etoh</th>\n      <th>Latitude</th>\n      <th>Longitude</th>\n      <th>Light Condition</th>\n      <th>year</th>\n      <th>month</th>\n      <th>day</th>\n      <th>hour</th>\n      <th>day_of_week</th>\n    </tr>\n  </thead>\n  <tbody>\n    <tr>\n      <th>0</th>\n      <td>2100 Market St</td>\n      <td>W 21st St</td>\n      <td>1</td>\n      <td>1</td>\n      <td>35.0</td>\n      <td>Clear</td>\n      <td>1</td>\n      <td>0</td>\n      <td>1.0</td>\n      <td>1.0</td>\n      <td>35.030156</td>\n      <td>-85.308327</td>\n      <td>Dark - Lighted</td>\n      <td>2023</td>\n      <td>9</td>\n      <td>15</td>\n      <td>23</td>\n      <td>4</td>\n    </tr>\n    <tr>\n      <th>1</th>\n      <td>4505 10th Ave</td>\n      <td>E 45th St</td>\n      <td>0</td>\n      <td>0</td>\n      <td>30.0</td>\n      <td>Clear</td>\n      <td>1</td>\n      <td>0</td>\n      <td>0.0</td>\n      <td>0.0</td>\n      <td>34.990735</td>\n      <td>-85.288301</td>\n      <td>Daylight</td>\n      <td>2023</td>\n      <td>9</td>\n      <td>19</td>\n      <td>16</td>\n      <td>1</td>\n    </tr>\n    <tr>\n      <th>2</th>\n      <td>4011 Rossville Blvd</td>\n      <td>E 41st St</td>\n      <td>0</td>\n      <td>1</td>\n      <td>45.0</td>\n      <td>Clear</td>\n      <td>1</td>\n      <td>0</td>\n      <td>0.0</td>\n      <td>0.0</td>\n      <td>34.995172</td>\n      <td>-85.290933</td>\n      <td>Dark - Unknown Lighting</td>\n      <td>2023</td>\n      <td>9</td>\n      <td>27</td>\n      <td>5</td>\n      <td>2</td>\n    </tr>\n    <tr>\n      <th>3</th>\n      <td>E 3rd St</td>\n      <td>N Holtzclaw Ave</td>\n      <td>0</td>\n      <td>1</td>\n      <td>35.0</td>\n      <td>Rain</td>\n      <td>1</td>\n      <td>0</td>\n      <td>0.0</td>\n      <td>0.0</td>\n      <td>35.043663</td>\n      <td>-85.279720</td>\n      <td>Dark - Lighted</td>\n      <td>2023</td>\n      <td>9</td>\n      <td>27</td>\n      <td>20</td>\n      <td>2</td>\n    </tr>\n    <tr>\n      <th>4</th>\n      <td>Mccallie Ave</td>\n      <td>S Willow St</td>\n      <td>0</td>\n      <td>1</td>\n      <td>35.0</td>\n      <td>Clear</td>\n      <td>1</td>\n      <td>0</td>\n      <td>0.0</td>\n      <td>0.0</td>\n      <td>35.034847</td>\n      <td>-85.271845</td>\n      <td>Daylight</td>\n      <td>2023</td>\n      <td>10</td>\n      <td>4</td>\n      <td>16</td>\n      <td>2</td>\n    </tr>\n    <tr>\n      <th>...</th>\n      <td>...</td>\n      <td>...</td>\n      <td>...</td>\n      <td>...</td>\n      <td>...</td>\n      <td>...</td>\n      <td>...</td>\n      <td>...</td>\n      <td>...</td>\n      <td>...</td>\n      <td>...</td>\n      <td>...</td>\n      <td>...</td>\n      <td>...</td>\n      <td>...</td>\n      <td>...</td>\n      <td>...</td>\n      <td>...</td>\n    </tr>\n    <tr>\n      <th>629</th>\n      <td>727 E 11th St</td>\n      <td>Peeples Street</td>\n      <td>0</td>\n      <td>1</td>\n      <td>30.0</td>\n      <td>Clear</td>\n      <td>1</td>\n      <td>0</td>\n      <td>0.0</td>\n      <td>0.0</td>\n      <td>35.040477</td>\n      <td>-85.299892</td>\n      <td>Daylight</td>\n      <td>2023</td>\n      <td>8</td>\n      <td>26</td>\n      <td>13</td>\n      <td>5</td>\n    </tr>\n    <tr>\n      <th>630</th>\n      <td>4700 Midland Pike</td>\n      <td>N Parkdale Ave</td>\n      <td>0</td>\n      <td>1</td>\n      <td>45.0</td>\n      <td>Clear</td>\n      <td>1</td>\n      <td>0</td>\n      <td>0.0</td>\n      <td>0.0</td>\n      <td>35.027370</td>\n      <td>-85.224889</td>\n      <td>Daylight</td>\n      <td>2023</td>\n      <td>9</td>\n      <td>1</td>\n      <td>12</td>\n      <td>4</td>\n    </tr>\n    <tr>\n      <th>631</th>\n      <td>1700 Gunbarrel Rd</td>\n      <td>Crane Rd</td>\n      <td>0</td>\n      <td>1</td>\n      <td>35.0</td>\n      <td>Clear</td>\n      <td>1</td>\n      <td>0</td>\n      <td>0.0</td>\n      <td>0.0</td>\n      <td>35.021618</td>\n      <td>-85.160209</td>\n      <td>Daylight</td>\n      <td>2023</td>\n      <td>9</td>\n      <td>5</td>\n      <td>10</td>\n      <td>1</td>\n    </tr>\n    <tr>\n      <th>632</th>\n      <td>1300 Central Ave</td>\n      <td>E 13th St</td>\n      <td>1</td>\n      <td>1</td>\n      <td>55.0</td>\n      <td>Clear</td>\n      <td>1</td>\n      <td>0</td>\n      <td>0.0</td>\n      <td>0.0</td>\n      <td>35.033943</td>\n      <td>-85.295302</td>\n      <td>Dark - Unknown Lighting</td>\n      <td>2023</td>\n      <td>9</td>\n      <td>8</td>\n      <td>6</td>\n      <td>4</td>\n    </tr>\n    <tr>\n      <th>633</th>\n      <td>311 Broad St</td>\n      <td>W 3rd St</td>\n      <td>0</td>\n      <td>1</td>\n      <td>30.0</td>\n      <td>Clear</td>\n      <td>1</td>\n      <td>0</td>\n      <td>0.0</td>\n      <td>0.0</td>\n      <td>35.012954</td>\n      <td>-85.228277</td>\n      <td>Dark - Lighted</td>\n      <td>2023</td>\n      <td>3</td>\n      <td>4</td>\n      <td>20</td>\n      <td>5</td>\n    </tr>\n  </tbody>\n</table>\n<p>634 rows × 18 columns</p>\n</div>"
     },
     "execution_count": 97,
     "metadata": {},
     "output_type": "execute_result"
    }
   ],
   "source": [
    "# create a special df for correlation\n",
    "# drop \"Time Num\" \"Mile Post\" \"Accident Type\" \"Hit and Run\" \"Involved Placarded Truck\" \"Total Vehicles Involved\"\n",
    "df_corr = df.drop(['Time Num', 'Mile Post', 'Accident Type', 'Hit and Run', 'Involved Placarded Truck', 'Total Vehicles Involved','City','County','Alt Street','Incident Number',\"Incident Date\",\"Collision Type\",\"Location WKT\",\"Location\"], axis=1)\n",
    "df_corr"
   ],
   "metadata": {
    "collapsed": false,
    "ExecuteTime": {
     "end_time": "2023-12-18T17:25:01.365253Z",
     "start_time": "2023-12-18T17:25:01.354936Z"
    }
   },
   "id": "e1d653bdf57adb90"
  },
  {
   "cell_type": "code",
   "execution_count": 101,
   "outputs": [],
   "source": [
    "# convert light condition, weather code to numeric \n",
    "le = LabelEncoder()\n",
    "df_corr['Light Condition'] = le.fit_transform(df_corr['Light Condition'])\n",
    "df_corr['Weather Code'] = le.fit_transform(df_corr['Weather Code'])\n",
    "\n",
    "#save df_corr to csv\n",
    "df_corr.to_csv('df_corr.csv', index=False)\n",
    "    \n",
    "    \n",
    "\n"
   ],
   "metadata": {
    "collapsed": false,
    "ExecuteTime": {
     "end_time": "2023-12-18T17:27:02.019431Z",
     "start_time": "2023-12-18T17:27:02.010990Z"
    }
   },
   "id": "1a0965bc3654b1a5"
  },
  {
   "cell_type": "code",
   "execution_count": 102,
   "outputs": [
    {
     "data": {
      "text/plain": "  Incident Number       Incident Date  Time Num               Street  \\\n0       23-101216 2023-09-15 23:00:00      23.0       2100 Market St   \n1       23-102526 2023-09-19 16:45:00      17.0        4505 10th Ave   \n2       23-105265 2023-09-27 05:50:00       6.0  4011 Rossville Blvd   \n3       23-105569 2023-09-27 20:06:00      20.0             E 3rd St   \n4       23-108143 2023-10-04 16:57:00      17.0         Mccallie Ave   \n\n  Alt Street         City    County     Intersection  Mile Post  \\\n0        NaN  Chattanooga  Hamilton        W 21st St        NaN   \n1        NaN  Chattanooga  Hamilton        E 45th St        NaN   \n2        NaN  Chattanooga  Hamilton        E 41st St        NaN   \n3        NaN  Chattanooga  Hamilton  N Holtzclaw Ave        NaN   \n4        NaN  Chattanooga  Hamilton      S Willow St        NaN   \n\n            Accident Type  ...   Latitude  Longitude  \\\n0                   Fatal  ...  35.030156 -85.308327   \n1         Possible Injury  ...  34.990735 -85.288301   \n2  Suspected Minor Injury  ...  34.995172 -85.290933   \n3         Possible Injury  ...  35.043663 -85.279720   \n4         Possible Injury  ...  35.034847 -85.271845   \n\n                   Location WKT                 Location  \\\n0  POINT (-85.308327 35.030156)  (35.030156, -85.308327)   \n1  POINT (-85.288301 34.990735)  (34.990735, -85.288301)   \n2  POINT (-85.290933 34.995172)  (34.995172, -85.290933)   \n3   POINT (-85.27972 35.043663)  (35.043663, -85.279720)   \n4  POINT (-85.271845 35.034847)  (35.034847, -85.271845)   \n\n           Light Condition  year  month day  hour  day_of_week  \n0           Dark - Lighted  2023      9  15    23            4  \n1                 Daylight  2023      9  19    16            1  \n2  Dark - Unknown Lighting  2023      9  27     5            2  \n3           Dark - Lighted  2023      9  27    20            2  \n4                 Daylight  2023     10   4    16            2  \n\n[5 rows x 32 columns]",
      "text/html": "<div>\n<style scoped>\n    .dataframe tbody tr th:only-of-type {\n        vertical-align: middle;\n    }\n\n    .dataframe tbody tr th {\n        vertical-align: top;\n    }\n\n    .dataframe thead th {\n        text-align: right;\n    }\n</style>\n<table border=\"1\" class=\"dataframe\">\n  <thead>\n    <tr style=\"text-align: right;\">\n      <th></th>\n      <th>Incident Number</th>\n      <th>Incident Date</th>\n      <th>Time Num</th>\n      <th>Street</th>\n      <th>Alt Street</th>\n      <th>City</th>\n      <th>County</th>\n      <th>Intersection</th>\n      <th>Mile Post</th>\n      <th>Accident Type</th>\n      <th>...</th>\n      <th>Latitude</th>\n      <th>Longitude</th>\n      <th>Location WKT</th>\n      <th>Location</th>\n      <th>Light Condition</th>\n      <th>year</th>\n      <th>month</th>\n      <th>day</th>\n      <th>hour</th>\n      <th>day_of_week</th>\n    </tr>\n  </thead>\n  <tbody>\n    <tr>\n      <th>0</th>\n      <td>23-101216</td>\n      <td>2023-09-15 23:00:00</td>\n      <td>23.0</td>\n      <td>2100 Market St</td>\n      <td>NaN</td>\n      <td>Chattanooga</td>\n      <td>Hamilton</td>\n      <td>W 21st St</td>\n      <td>NaN</td>\n      <td>Fatal</td>\n      <td>...</td>\n      <td>35.030156</td>\n      <td>-85.308327</td>\n      <td>POINT (-85.308327 35.030156)</td>\n      <td>(35.030156, -85.308327)</td>\n      <td>Dark - Lighted</td>\n      <td>2023</td>\n      <td>9</td>\n      <td>15</td>\n      <td>23</td>\n      <td>4</td>\n    </tr>\n    <tr>\n      <th>1</th>\n      <td>23-102526</td>\n      <td>2023-09-19 16:45:00</td>\n      <td>17.0</td>\n      <td>4505 10th Ave</td>\n      <td>NaN</td>\n      <td>Chattanooga</td>\n      <td>Hamilton</td>\n      <td>E 45th St</td>\n      <td>NaN</td>\n      <td>Possible Injury</td>\n      <td>...</td>\n      <td>34.990735</td>\n      <td>-85.288301</td>\n      <td>POINT (-85.288301 34.990735)</td>\n      <td>(34.990735, -85.288301)</td>\n      <td>Daylight</td>\n      <td>2023</td>\n      <td>9</td>\n      <td>19</td>\n      <td>16</td>\n      <td>1</td>\n    </tr>\n    <tr>\n      <th>2</th>\n      <td>23-105265</td>\n      <td>2023-09-27 05:50:00</td>\n      <td>6.0</td>\n      <td>4011 Rossville Blvd</td>\n      <td>NaN</td>\n      <td>Chattanooga</td>\n      <td>Hamilton</td>\n      <td>E 41st St</td>\n      <td>NaN</td>\n      <td>Suspected Minor Injury</td>\n      <td>...</td>\n      <td>34.995172</td>\n      <td>-85.290933</td>\n      <td>POINT (-85.290933 34.995172)</td>\n      <td>(34.995172, -85.290933)</td>\n      <td>Dark - Unknown Lighting</td>\n      <td>2023</td>\n      <td>9</td>\n      <td>27</td>\n      <td>5</td>\n      <td>2</td>\n    </tr>\n    <tr>\n      <th>3</th>\n      <td>23-105569</td>\n      <td>2023-09-27 20:06:00</td>\n      <td>20.0</td>\n      <td>E 3rd St</td>\n      <td>NaN</td>\n      <td>Chattanooga</td>\n      <td>Hamilton</td>\n      <td>N Holtzclaw Ave</td>\n      <td>NaN</td>\n      <td>Possible Injury</td>\n      <td>...</td>\n      <td>35.043663</td>\n      <td>-85.279720</td>\n      <td>POINT (-85.27972 35.043663)</td>\n      <td>(35.043663, -85.279720)</td>\n      <td>Dark - Lighted</td>\n      <td>2023</td>\n      <td>9</td>\n      <td>27</td>\n      <td>20</td>\n      <td>2</td>\n    </tr>\n    <tr>\n      <th>4</th>\n      <td>23-108143</td>\n      <td>2023-10-04 16:57:00</td>\n      <td>17.0</td>\n      <td>Mccallie Ave</td>\n      <td>NaN</td>\n      <td>Chattanooga</td>\n      <td>Hamilton</td>\n      <td>S Willow St</td>\n      <td>NaN</td>\n      <td>Possible Injury</td>\n      <td>...</td>\n      <td>35.034847</td>\n      <td>-85.271845</td>\n      <td>POINT (-85.271845 35.034847)</td>\n      <td>(35.034847, -85.271845)</td>\n      <td>Daylight</td>\n      <td>2023</td>\n      <td>10</td>\n      <td>4</td>\n      <td>16</td>\n      <td>2</td>\n    </tr>\n  </tbody>\n</table>\n<p>5 rows × 32 columns</p>\n</div>"
     },
     "execution_count": 102,
     "metadata": {},
     "output_type": "execute_result"
    }
   ],
   "source": [
    "df.head()"
   ],
   "metadata": {
    "collapsed": false,
    "ExecuteTime": {
     "end_time": "2023-12-18T17:27:02.639279Z",
     "start_time": "2023-12-18T17:27:02.632517Z"
    }
   },
   "id": "cf649d426f9bc2b7"
  },
  {
   "cell_type": "code",
   "execution_count": 69,
   "outputs": [],
   "source": [
    "df.to_csv('ps_cleaned.csv', index=False)"
   ],
   "metadata": {
    "collapsed": false,
    "ExecuteTime": {
     "end_time": "2023-12-17T17:56:07.925556Z",
     "start_time": "2023-12-17T17:56:07.915949Z"
    }
   },
   "id": "f615bf9ad51776c1"
  },
  {
   "cell_type": "code",
   "execution_count": 105,
   "outputs": [
    {
     "data": {
      "text/plain": "         Time Num   Mile Post  Accident Type  Collision Type  Hit and Run  \\\ncount  619.000000   24.000000     634.000000           634.0   634.000000   \nmean    14.470921   55.350000       2.388013             0.0     0.329653   \nstd      5.852208   82.022844       1.709812             0.0     0.470458   \nmin      0.500000    0.000000       0.000000             0.0     0.000000   \n25%     10.500000    1.000000       1.000000             0.0     0.000000   \n50%     15.500000    1.000000       1.000000             0.0     0.000000   \n75%     19.000000  177.050000       4.000000             0.0     1.000000   \nmax     24.000000  183.200000       5.000000             0.0     1.000000   \n\n            fatal  EMSTransport  Involved Placarded Truck  Posted Speed  \\\ncount  634.000000    634.000000                634.000000    582.000000   \nmean     0.063091      0.604101                  0.001577     31.451890   \nstd      0.243319      0.489429                  0.039715     10.617602   \nmin      0.000000      0.000000                  0.000000     15.000000   \n25%      0.000000      0.000000                  0.000000     25.000000   \n50%      0.000000      1.000000                  0.000000     30.000000   \n75%      0.000000      1.000000                  0.000000     40.000000   \nmax      1.000000      1.000000                  1.000000     65.000000   \n\n       Total Vehicles Involved  ...        drug        etoh    Latitude  \\\ncount               634.000000  ...  600.000000  602.000000  634.000000   \nmean                  1.029968  ...    0.038333    0.117940   35.049078   \nstd                   0.219257  ...    0.192160    0.322806    0.038036   \nmin                   1.000000  ...    0.000000    0.000000   34.985076   \n25%                   1.000000  ...    0.000000    0.000000   35.023370   \n50%                   1.000000  ...    0.000000    0.000000   35.043440   \n75%                   1.000000  ...    0.000000    0.000000   35.060733   \nmax                   4.000000  ...    1.000000    1.000000   35.187101   \n\n        Longitude  Light Condition         year       month         day  \\\ncount  634.000000       634.000000   634.000000  634.000000  634.000000   \nmean   -85.254170         2.577287  2020.692429    6.375394   15.058360   \nstd      0.063136         1.873872     1.697979    3.591867    8.881246   \nmin    -85.390573         0.000000  2018.000000    1.000000    1.000000   \n25%    -85.305750         0.000000  2019.000000    3.000000    7.000000   \n50%    -85.271638         4.000000  2021.000000    6.000000   15.000000   \n75%    -85.218694         4.000000  2022.000000   10.000000   23.000000   \nmax    -85.055304         6.000000  2023.000000   12.000000   31.000000   \n\n             hour  day_of_week  \ncount  634.000000   634.000000  \nmean    13.500000     2.826498  \nstd      6.219586     1.880689  \nmin      0.000000     0.000000  \n25%      9.000000     1.000000  \n50%     14.500000     3.000000  \n75%     19.000000     4.000000  \nmax     23.000000     6.000000  \n\n[8 rows x 23 columns]",
      "text/html": "<div>\n<style scoped>\n    .dataframe tbody tr th:only-of-type {\n        vertical-align: middle;\n    }\n\n    .dataframe tbody tr th {\n        vertical-align: top;\n    }\n\n    .dataframe thead th {\n        text-align: right;\n    }\n</style>\n<table border=\"1\" class=\"dataframe\">\n  <thead>\n    <tr style=\"text-align: right;\">\n      <th></th>\n      <th>Time Num</th>\n      <th>Mile Post</th>\n      <th>Accident Type</th>\n      <th>Collision Type</th>\n      <th>Hit and Run</th>\n      <th>fatal</th>\n      <th>EMSTransport</th>\n      <th>Involved Placarded Truck</th>\n      <th>Posted Speed</th>\n      <th>Total Vehicles Involved</th>\n      <th>...</th>\n      <th>drug</th>\n      <th>etoh</th>\n      <th>Latitude</th>\n      <th>Longitude</th>\n      <th>Light Condition</th>\n      <th>year</th>\n      <th>month</th>\n      <th>day</th>\n      <th>hour</th>\n      <th>day_of_week</th>\n    </tr>\n  </thead>\n  <tbody>\n    <tr>\n      <th>count</th>\n      <td>619.000000</td>\n      <td>24.000000</td>\n      <td>634.000000</td>\n      <td>634.0</td>\n      <td>634.000000</td>\n      <td>634.000000</td>\n      <td>634.000000</td>\n      <td>634.000000</td>\n      <td>582.000000</td>\n      <td>634.000000</td>\n      <td>...</td>\n      <td>600.000000</td>\n      <td>602.000000</td>\n      <td>634.000000</td>\n      <td>634.000000</td>\n      <td>634.000000</td>\n      <td>634.000000</td>\n      <td>634.000000</td>\n      <td>634.000000</td>\n      <td>634.000000</td>\n      <td>634.000000</td>\n    </tr>\n    <tr>\n      <th>mean</th>\n      <td>14.470921</td>\n      <td>55.350000</td>\n      <td>2.388013</td>\n      <td>0.0</td>\n      <td>0.329653</td>\n      <td>0.063091</td>\n      <td>0.604101</td>\n      <td>0.001577</td>\n      <td>31.451890</td>\n      <td>1.029968</td>\n      <td>...</td>\n      <td>0.038333</td>\n      <td>0.117940</td>\n      <td>35.049078</td>\n      <td>-85.254170</td>\n      <td>2.577287</td>\n      <td>2020.692429</td>\n      <td>6.375394</td>\n      <td>15.058360</td>\n      <td>13.500000</td>\n      <td>2.826498</td>\n    </tr>\n    <tr>\n      <th>std</th>\n      <td>5.852208</td>\n      <td>82.022844</td>\n      <td>1.709812</td>\n      <td>0.0</td>\n      <td>0.470458</td>\n      <td>0.243319</td>\n      <td>0.489429</td>\n      <td>0.039715</td>\n      <td>10.617602</td>\n      <td>0.219257</td>\n      <td>...</td>\n      <td>0.192160</td>\n      <td>0.322806</td>\n      <td>0.038036</td>\n      <td>0.063136</td>\n      <td>1.873872</td>\n      <td>1.697979</td>\n      <td>3.591867</td>\n      <td>8.881246</td>\n      <td>6.219586</td>\n      <td>1.880689</td>\n    </tr>\n    <tr>\n      <th>min</th>\n      <td>0.500000</td>\n      <td>0.000000</td>\n      <td>0.000000</td>\n      <td>0.0</td>\n      <td>0.000000</td>\n      <td>0.000000</td>\n      <td>0.000000</td>\n      <td>0.000000</td>\n      <td>15.000000</td>\n      <td>1.000000</td>\n      <td>...</td>\n      <td>0.000000</td>\n      <td>0.000000</td>\n      <td>34.985076</td>\n      <td>-85.390573</td>\n      <td>0.000000</td>\n      <td>2018.000000</td>\n      <td>1.000000</td>\n      <td>1.000000</td>\n      <td>0.000000</td>\n      <td>0.000000</td>\n    </tr>\n    <tr>\n      <th>25%</th>\n      <td>10.500000</td>\n      <td>1.000000</td>\n      <td>1.000000</td>\n      <td>0.0</td>\n      <td>0.000000</td>\n      <td>0.000000</td>\n      <td>0.000000</td>\n      <td>0.000000</td>\n      <td>25.000000</td>\n      <td>1.000000</td>\n      <td>...</td>\n      <td>0.000000</td>\n      <td>0.000000</td>\n      <td>35.023370</td>\n      <td>-85.305750</td>\n      <td>0.000000</td>\n      <td>2019.000000</td>\n      <td>3.000000</td>\n      <td>7.000000</td>\n      <td>9.000000</td>\n      <td>1.000000</td>\n    </tr>\n    <tr>\n      <th>50%</th>\n      <td>15.500000</td>\n      <td>1.000000</td>\n      <td>1.000000</td>\n      <td>0.0</td>\n      <td>0.000000</td>\n      <td>0.000000</td>\n      <td>1.000000</td>\n      <td>0.000000</td>\n      <td>30.000000</td>\n      <td>1.000000</td>\n      <td>...</td>\n      <td>0.000000</td>\n      <td>0.000000</td>\n      <td>35.043440</td>\n      <td>-85.271638</td>\n      <td>4.000000</td>\n      <td>2021.000000</td>\n      <td>6.000000</td>\n      <td>15.000000</td>\n      <td>14.500000</td>\n      <td>3.000000</td>\n    </tr>\n    <tr>\n      <th>75%</th>\n      <td>19.000000</td>\n      <td>177.050000</td>\n      <td>4.000000</td>\n      <td>0.0</td>\n      <td>1.000000</td>\n      <td>0.000000</td>\n      <td>1.000000</td>\n      <td>0.000000</td>\n      <td>40.000000</td>\n      <td>1.000000</td>\n      <td>...</td>\n      <td>0.000000</td>\n      <td>0.000000</td>\n      <td>35.060733</td>\n      <td>-85.218694</td>\n      <td>4.000000</td>\n      <td>2022.000000</td>\n      <td>10.000000</td>\n      <td>23.000000</td>\n      <td>19.000000</td>\n      <td>4.000000</td>\n    </tr>\n    <tr>\n      <th>max</th>\n      <td>24.000000</td>\n      <td>183.200000</td>\n      <td>5.000000</td>\n      <td>0.0</td>\n      <td>1.000000</td>\n      <td>1.000000</td>\n      <td>1.000000</td>\n      <td>1.000000</td>\n      <td>65.000000</td>\n      <td>4.000000</td>\n      <td>...</td>\n      <td>1.000000</td>\n      <td>1.000000</td>\n      <td>35.187101</td>\n      <td>-85.055304</td>\n      <td>6.000000</td>\n      <td>2023.000000</td>\n      <td>12.000000</td>\n      <td>31.000000</td>\n      <td>23.000000</td>\n      <td>6.000000</td>\n    </tr>\n  </tbody>\n</table>\n<p>8 rows × 23 columns</p>\n</div>"
     },
     "execution_count": 105,
     "metadata": {},
     "output_type": "execute_result"
    }
   ],
   "source": [
    "df = pd.read_csv('ps_cleaned.csv')\n",
    "df.describe()\n",
    "\n"
   ],
   "metadata": {
    "collapsed": false,
    "ExecuteTime": {
     "end_time": "2023-12-19T17:09:52.332120Z",
     "start_time": "2023-12-19T17:09:52.294956Z"
    }
   },
   "id": "6863100034d156f5"
  },
  {
   "cell_type": "code",
   "execution_count": 71,
   "outputs": [
    {
     "data": {
      "text/plain": "    Incident Number        Incident Date  Time Num               Street  \\\n0         23-101216  2023-09-15 23:00:00      23.0       2100 Market St   \n1         23-102526  2023-09-19 16:45:00      17.0        4505 10th Ave   \n2         23-105265  2023-09-27 05:50:00       6.0  4011 Rossville Blvd   \n3         23-105569  2023-09-27 20:06:00      20.0             E 3rd St   \n4         23-108143  2023-10-04 16:57:00      17.0         Mccallie Ave   \n..              ...                  ...       ...                  ...   \n629       23-093329  2023-08-26 13:00:00      13.0        727 E 11th St   \n630       23-096050  2023-09-01 12:45:00      13.0    4700 Midland Pike   \n631       23-097228  2023-09-05 10:56:00      11.0    1700 Gunbarrel Rd   \n632       23-098315  2023-09-08 06:25:00       6.5     1300 Central Ave   \n633       23-022943  2023-03-04 20:47:00      21.0         311 Broad St   \n\n    Alt Street         City    County     Intersection  Mile Post  \\\n0          NaN  Chattanooga  Hamilton        W 21st St        NaN   \n1          NaN  Chattanooga  Hamilton        E 45th St        NaN   \n2          NaN  Chattanooga  Hamilton        E 41st St        NaN   \n3          NaN  Chattanooga  Hamilton  N Holtzclaw Ave        NaN   \n4          NaN  Chattanooga  Hamilton      S Willow St        NaN   \n..         ...          ...       ...              ...        ...   \n629     SR-700  Chattanooga  Hamilton   Peeples Street        NaN   \n630        NaN  Chattanooga  Hamilton   N Parkdale Ave        NaN   \n631        NaN  Chattanooga  Hamilton         Crane Rd        NaN   \n632    SR-1300  Chattanooga  Hamilton        E 13th St        NaN   \n633        NaN  Chattanooga  Hamilton         W 3rd St        NaN   \n\n     Accident Type  ...   Latitude  Longitude                  Location WKT  \\\n0                0  ...  35.030156 -85.308327  POINT (-85.308327 35.030156)   \n1                1  ...  34.990735 -85.288301  POINT (-85.288301 34.990735)   \n2                4  ...  34.995172 -85.290933  POINT (-85.290933 34.995172)   \n3                1  ...  35.043663 -85.279720   POINT (-85.27972 35.043663)   \n4                1  ...  35.034847 -85.271845  POINT (-85.271845 35.034847)   \n..             ...  ...        ...        ...                           ...   \n629              1  ...  35.040477 -85.299892  POINT (-85.299892 35.040477)   \n630              1  ...  35.027370 -85.224889   POINT (-85.224889 35.02737)   \n631              1  ...  35.021618 -85.160209  POINT (-85.160209 35.021618)   \n632              0  ...  35.033943 -85.295302  POINT (-85.295302 35.033943)   \n633              1  ...  35.012954 -85.228277  POINT (-85.228277 35.012954)   \n\n                    Location  Light Condition  year  month  day  hour  \\\n0    (35.030156, -85.308327)                0  2023      9   15    23   \n1    (34.990735, -85.288301)                4  2023      9   19    16   \n2    (34.995172, -85.290933)                2  2023      9   27     5   \n3    (35.043663, -85.279720)                0  2023      9   27    20   \n4    (35.034847, -85.271845)                4  2023     10    4    16   \n..                       ...              ...   ...    ...  ...   ...   \n629  (35.040477, -85.299892)                4  2023      8   26    13   \n630  (35.027370, -85.224889)                4  2023      9    1    12   \n631  (35.021618, -85.160209)                4  2023      9    5    10   \n632  (35.033943, -85.295302)                2  2023      9    8     6   \n633  (35.012954, -85.228277)                0  2023      3    4    20   \n\n     day_of_week  \n0              4  \n1              1  \n2              2  \n3              2  \n4              2  \n..           ...  \n629            5  \n630            4  \n631            1  \n632            4  \n633            5  \n\n[634 rows x 32 columns]",
      "text/html": "<div>\n<style scoped>\n    .dataframe tbody tr th:only-of-type {\n        vertical-align: middle;\n    }\n\n    .dataframe tbody tr th {\n        vertical-align: top;\n    }\n\n    .dataframe thead th {\n        text-align: right;\n    }\n</style>\n<table border=\"1\" class=\"dataframe\">\n  <thead>\n    <tr style=\"text-align: right;\">\n      <th></th>\n      <th>Incident Number</th>\n      <th>Incident Date</th>\n      <th>Time Num</th>\n      <th>Street</th>\n      <th>Alt Street</th>\n      <th>City</th>\n      <th>County</th>\n      <th>Intersection</th>\n      <th>Mile Post</th>\n      <th>Accident Type</th>\n      <th>...</th>\n      <th>Latitude</th>\n      <th>Longitude</th>\n      <th>Location WKT</th>\n      <th>Location</th>\n      <th>Light Condition</th>\n      <th>year</th>\n      <th>month</th>\n      <th>day</th>\n      <th>hour</th>\n      <th>day_of_week</th>\n    </tr>\n  </thead>\n  <tbody>\n    <tr>\n      <th>0</th>\n      <td>23-101216</td>\n      <td>2023-09-15 23:00:00</td>\n      <td>23.0</td>\n      <td>2100 Market St</td>\n      <td>NaN</td>\n      <td>Chattanooga</td>\n      <td>Hamilton</td>\n      <td>W 21st St</td>\n      <td>NaN</td>\n      <td>0</td>\n      <td>...</td>\n      <td>35.030156</td>\n      <td>-85.308327</td>\n      <td>POINT (-85.308327 35.030156)</td>\n      <td>(35.030156, -85.308327)</td>\n      <td>0</td>\n      <td>2023</td>\n      <td>9</td>\n      <td>15</td>\n      <td>23</td>\n      <td>4</td>\n    </tr>\n    <tr>\n      <th>1</th>\n      <td>23-102526</td>\n      <td>2023-09-19 16:45:00</td>\n      <td>17.0</td>\n      <td>4505 10th Ave</td>\n      <td>NaN</td>\n      <td>Chattanooga</td>\n      <td>Hamilton</td>\n      <td>E 45th St</td>\n      <td>NaN</td>\n      <td>1</td>\n      <td>...</td>\n      <td>34.990735</td>\n      <td>-85.288301</td>\n      <td>POINT (-85.288301 34.990735)</td>\n      <td>(34.990735, -85.288301)</td>\n      <td>4</td>\n      <td>2023</td>\n      <td>9</td>\n      <td>19</td>\n      <td>16</td>\n      <td>1</td>\n    </tr>\n    <tr>\n      <th>2</th>\n      <td>23-105265</td>\n      <td>2023-09-27 05:50:00</td>\n      <td>6.0</td>\n      <td>4011 Rossville Blvd</td>\n      <td>NaN</td>\n      <td>Chattanooga</td>\n      <td>Hamilton</td>\n      <td>E 41st St</td>\n      <td>NaN</td>\n      <td>4</td>\n      <td>...</td>\n      <td>34.995172</td>\n      <td>-85.290933</td>\n      <td>POINT (-85.290933 34.995172)</td>\n      <td>(34.995172, -85.290933)</td>\n      <td>2</td>\n      <td>2023</td>\n      <td>9</td>\n      <td>27</td>\n      <td>5</td>\n      <td>2</td>\n    </tr>\n    <tr>\n      <th>3</th>\n      <td>23-105569</td>\n      <td>2023-09-27 20:06:00</td>\n      <td>20.0</td>\n      <td>E 3rd St</td>\n      <td>NaN</td>\n      <td>Chattanooga</td>\n      <td>Hamilton</td>\n      <td>N Holtzclaw Ave</td>\n      <td>NaN</td>\n      <td>1</td>\n      <td>...</td>\n      <td>35.043663</td>\n      <td>-85.279720</td>\n      <td>POINT (-85.27972 35.043663)</td>\n      <td>(35.043663, -85.279720)</td>\n      <td>0</td>\n      <td>2023</td>\n      <td>9</td>\n      <td>27</td>\n      <td>20</td>\n      <td>2</td>\n    </tr>\n    <tr>\n      <th>4</th>\n      <td>23-108143</td>\n      <td>2023-10-04 16:57:00</td>\n      <td>17.0</td>\n      <td>Mccallie Ave</td>\n      <td>NaN</td>\n      <td>Chattanooga</td>\n      <td>Hamilton</td>\n      <td>S Willow St</td>\n      <td>NaN</td>\n      <td>1</td>\n      <td>...</td>\n      <td>35.034847</td>\n      <td>-85.271845</td>\n      <td>POINT (-85.271845 35.034847)</td>\n      <td>(35.034847, -85.271845)</td>\n      <td>4</td>\n      <td>2023</td>\n      <td>10</td>\n      <td>4</td>\n      <td>16</td>\n      <td>2</td>\n    </tr>\n    <tr>\n      <th>...</th>\n      <td>...</td>\n      <td>...</td>\n      <td>...</td>\n      <td>...</td>\n      <td>...</td>\n      <td>...</td>\n      <td>...</td>\n      <td>...</td>\n      <td>...</td>\n      <td>...</td>\n      <td>...</td>\n      <td>...</td>\n      <td>...</td>\n      <td>...</td>\n      <td>...</td>\n      <td>...</td>\n      <td>...</td>\n      <td>...</td>\n      <td>...</td>\n      <td>...</td>\n      <td>...</td>\n    </tr>\n    <tr>\n      <th>629</th>\n      <td>23-093329</td>\n      <td>2023-08-26 13:00:00</td>\n      <td>13.0</td>\n      <td>727 E 11th St</td>\n      <td>SR-700</td>\n      <td>Chattanooga</td>\n      <td>Hamilton</td>\n      <td>Peeples Street</td>\n      <td>NaN</td>\n      <td>1</td>\n      <td>...</td>\n      <td>35.040477</td>\n      <td>-85.299892</td>\n      <td>POINT (-85.299892 35.040477)</td>\n      <td>(35.040477, -85.299892)</td>\n      <td>4</td>\n      <td>2023</td>\n      <td>8</td>\n      <td>26</td>\n      <td>13</td>\n      <td>5</td>\n    </tr>\n    <tr>\n      <th>630</th>\n      <td>23-096050</td>\n      <td>2023-09-01 12:45:00</td>\n      <td>13.0</td>\n      <td>4700 Midland Pike</td>\n      <td>NaN</td>\n      <td>Chattanooga</td>\n      <td>Hamilton</td>\n      <td>N Parkdale Ave</td>\n      <td>NaN</td>\n      <td>1</td>\n      <td>...</td>\n      <td>35.027370</td>\n      <td>-85.224889</td>\n      <td>POINT (-85.224889 35.02737)</td>\n      <td>(35.027370, -85.224889)</td>\n      <td>4</td>\n      <td>2023</td>\n      <td>9</td>\n      <td>1</td>\n      <td>12</td>\n      <td>4</td>\n    </tr>\n    <tr>\n      <th>631</th>\n      <td>23-097228</td>\n      <td>2023-09-05 10:56:00</td>\n      <td>11.0</td>\n      <td>1700 Gunbarrel Rd</td>\n      <td>NaN</td>\n      <td>Chattanooga</td>\n      <td>Hamilton</td>\n      <td>Crane Rd</td>\n      <td>NaN</td>\n      <td>1</td>\n      <td>...</td>\n      <td>35.021618</td>\n      <td>-85.160209</td>\n      <td>POINT (-85.160209 35.021618)</td>\n      <td>(35.021618, -85.160209)</td>\n      <td>4</td>\n      <td>2023</td>\n      <td>9</td>\n      <td>5</td>\n      <td>10</td>\n      <td>1</td>\n    </tr>\n    <tr>\n      <th>632</th>\n      <td>23-098315</td>\n      <td>2023-09-08 06:25:00</td>\n      <td>6.5</td>\n      <td>1300 Central Ave</td>\n      <td>SR-1300</td>\n      <td>Chattanooga</td>\n      <td>Hamilton</td>\n      <td>E 13th St</td>\n      <td>NaN</td>\n      <td>0</td>\n      <td>...</td>\n      <td>35.033943</td>\n      <td>-85.295302</td>\n      <td>POINT (-85.295302 35.033943)</td>\n      <td>(35.033943, -85.295302)</td>\n      <td>2</td>\n      <td>2023</td>\n      <td>9</td>\n      <td>8</td>\n      <td>6</td>\n      <td>4</td>\n    </tr>\n    <tr>\n      <th>633</th>\n      <td>23-022943</td>\n      <td>2023-03-04 20:47:00</td>\n      <td>21.0</td>\n      <td>311 Broad St</td>\n      <td>NaN</td>\n      <td>Chattanooga</td>\n      <td>Hamilton</td>\n      <td>W 3rd St</td>\n      <td>NaN</td>\n      <td>1</td>\n      <td>...</td>\n      <td>35.012954</td>\n      <td>-85.228277</td>\n      <td>POINT (-85.228277 35.012954)</td>\n      <td>(35.012954, -85.228277)</td>\n      <td>0</td>\n      <td>2023</td>\n      <td>3</td>\n      <td>4</td>\n      <td>20</td>\n      <td>5</td>\n    </tr>\n  </tbody>\n</table>\n<p>634 rows × 32 columns</p>\n</div>"
     },
     "execution_count": 71,
     "metadata": {},
     "output_type": "execute_result"
    }
   ],
   "source": [
    "# lets create a sperate dataset for incidents that required medical transport and or were fatal\n",
    "df_serious = df[(df['EMSTransport'] == 1) | (df['fatal'] == 1)]\n",
    "df_serious.to_csv('serious.csv', index=False)\n",
    "df"
   ],
   "metadata": {
    "collapsed": false,
    "ExecuteTime": {
     "end_time": "2023-12-17T17:56:09.738245Z",
     "start_time": "2023-12-17T17:56:09.713201Z"
    }
   },
   "id": "ef414f87b066b1e5"
  },
  {
   "cell_type": "code",
   "execution_count": 72,
   "outputs": [
    {
     "data": {
      "text/plain": "    Incident Number        Incident Date  Time Num               Street  \\\n0         23-101216  2023-09-15 23:00:00      23.0       2100 Market St   \n1         23-102526  2023-09-19 16:45:00      17.0        4505 10th Ave   \n2         23-105265  2023-09-27 05:50:00       6.0  4011 Rossville Blvd   \n3         23-105569  2023-09-27 20:06:00      20.0             E 3rd St   \n4         23-108143  2023-10-04 16:57:00      17.0         Mccallie Ave   \n..              ...                  ...       ...                  ...   \n629       23-093329  2023-08-26 13:00:00      13.0        727 E 11th St   \n630       23-096050  2023-09-01 12:45:00      13.0    4700 Midland Pike   \n631       23-097228  2023-09-05 10:56:00      11.0    1700 Gunbarrel Rd   \n632       23-098315  2023-09-08 06:25:00       6.5     1300 Central Ave   \n633       23-022943  2023-03-04 20:47:00      21.0         311 Broad St   \n\n    Alt Street         City    County     Intersection  Mile Post  \\\n0          NaN  Chattanooga  Hamilton        W 21st St        NaN   \n1          NaN  Chattanooga  Hamilton        E 45th St        NaN   \n2          NaN  Chattanooga  Hamilton        E 41st St        NaN   \n3          NaN  Chattanooga  Hamilton  N Holtzclaw Ave        NaN   \n4          NaN  Chattanooga  Hamilton      S Willow St        NaN   \n..         ...          ...       ...              ...        ...   \n629     SR-700  Chattanooga  Hamilton   Peeples Street        NaN   \n630        NaN  Chattanooga  Hamilton   N Parkdale Ave        NaN   \n631        NaN  Chattanooga  Hamilton         Crane Rd        NaN   \n632    SR-1300  Chattanooga  Hamilton        E 13th St        NaN   \n633        NaN  Chattanooga  Hamilton         W 3rd St        NaN   \n\n     Accident Type  ...   Latitude  Longitude                  Location WKT  \\\n0                0  ...  35.030156 -85.308327  POINT (-85.308327 35.030156)   \n1                1  ...  34.990735 -85.288301  POINT (-85.288301 34.990735)   \n2                4  ...  34.995172 -85.290933  POINT (-85.290933 34.995172)   \n3                1  ...  35.043663 -85.279720   POINT (-85.27972 35.043663)   \n4                1  ...  35.034847 -85.271845  POINT (-85.271845 35.034847)   \n..             ...  ...        ...        ...                           ...   \n629              1  ...  35.040477 -85.299892  POINT (-85.299892 35.040477)   \n630              1  ...  35.027370 -85.224889   POINT (-85.224889 35.02737)   \n631              1  ...  35.021618 -85.160209  POINT (-85.160209 35.021618)   \n632              0  ...  35.033943 -85.295302  POINT (-85.295302 35.033943)   \n633              1  ...  35.012954 -85.228277  POINT (-85.228277 35.012954)   \n\n                    Location  Light Condition  year  month  day  hour  \\\n0    (35.030156, -85.308327)                0  2023      9   15    23   \n1    (34.990735, -85.288301)                4  2023      9   19    16   \n2    (34.995172, -85.290933)                2  2023      9   27     5   \n3    (35.043663, -85.279720)                0  2023      9   27    20   \n4    (35.034847, -85.271845)                4  2023     10    4    16   \n..                       ...              ...   ...    ...  ...   ...   \n629  (35.040477, -85.299892)                4  2023      8   26    13   \n630  (35.027370, -85.224889)                4  2023      9    1    12   \n631  (35.021618, -85.160209)                4  2023      9    5    10   \n632  (35.033943, -85.295302)                2  2023      9    8     6   \n633  (35.012954, -85.228277)                0  2023      3    4    20   \n\n     day_of_week  \n0              4  \n1              1  \n2              2  \n3              2  \n4              2  \n..           ...  \n629            5  \n630            4  \n631            1  \n632            4  \n633            5  \n\n[634 rows x 32 columns]",
      "text/html": "<div>\n<style scoped>\n    .dataframe tbody tr th:only-of-type {\n        vertical-align: middle;\n    }\n\n    .dataframe tbody tr th {\n        vertical-align: top;\n    }\n\n    .dataframe thead th {\n        text-align: right;\n    }\n</style>\n<table border=\"1\" class=\"dataframe\">\n  <thead>\n    <tr style=\"text-align: right;\">\n      <th></th>\n      <th>Incident Number</th>\n      <th>Incident Date</th>\n      <th>Time Num</th>\n      <th>Street</th>\n      <th>Alt Street</th>\n      <th>City</th>\n      <th>County</th>\n      <th>Intersection</th>\n      <th>Mile Post</th>\n      <th>Accident Type</th>\n      <th>...</th>\n      <th>Latitude</th>\n      <th>Longitude</th>\n      <th>Location WKT</th>\n      <th>Location</th>\n      <th>Light Condition</th>\n      <th>year</th>\n      <th>month</th>\n      <th>day</th>\n      <th>hour</th>\n      <th>day_of_week</th>\n    </tr>\n  </thead>\n  <tbody>\n    <tr>\n      <th>0</th>\n      <td>23-101216</td>\n      <td>2023-09-15 23:00:00</td>\n      <td>23.0</td>\n      <td>2100 Market St</td>\n      <td>NaN</td>\n      <td>Chattanooga</td>\n      <td>Hamilton</td>\n      <td>W 21st St</td>\n      <td>NaN</td>\n      <td>0</td>\n      <td>...</td>\n      <td>35.030156</td>\n      <td>-85.308327</td>\n      <td>POINT (-85.308327 35.030156)</td>\n      <td>(35.030156, -85.308327)</td>\n      <td>0</td>\n      <td>2023</td>\n      <td>9</td>\n      <td>15</td>\n      <td>23</td>\n      <td>4</td>\n    </tr>\n    <tr>\n      <th>1</th>\n      <td>23-102526</td>\n      <td>2023-09-19 16:45:00</td>\n      <td>17.0</td>\n      <td>4505 10th Ave</td>\n      <td>NaN</td>\n      <td>Chattanooga</td>\n      <td>Hamilton</td>\n      <td>E 45th St</td>\n      <td>NaN</td>\n      <td>1</td>\n      <td>...</td>\n      <td>34.990735</td>\n      <td>-85.288301</td>\n      <td>POINT (-85.288301 34.990735)</td>\n      <td>(34.990735, -85.288301)</td>\n      <td>4</td>\n      <td>2023</td>\n      <td>9</td>\n      <td>19</td>\n      <td>16</td>\n      <td>1</td>\n    </tr>\n    <tr>\n      <th>2</th>\n      <td>23-105265</td>\n      <td>2023-09-27 05:50:00</td>\n      <td>6.0</td>\n      <td>4011 Rossville Blvd</td>\n      <td>NaN</td>\n      <td>Chattanooga</td>\n      <td>Hamilton</td>\n      <td>E 41st St</td>\n      <td>NaN</td>\n      <td>4</td>\n      <td>...</td>\n      <td>34.995172</td>\n      <td>-85.290933</td>\n      <td>POINT (-85.290933 34.995172)</td>\n      <td>(34.995172, -85.290933)</td>\n      <td>2</td>\n      <td>2023</td>\n      <td>9</td>\n      <td>27</td>\n      <td>5</td>\n      <td>2</td>\n    </tr>\n    <tr>\n      <th>3</th>\n      <td>23-105569</td>\n      <td>2023-09-27 20:06:00</td>\n      <td>20.0</td>\n      <td>E 3rd St</td>\n      <td>NaN</td>\n      <td>Chattanooga</td>\n      <td>Hamilton</td>\n      <td>N Holtzclaw Ave</td>\n      <td>NaN</td>\n      <td>1</td>\n      <td>...</td>\n      <td>35.043663</td>\n      <td>-85.279720</td>\n      <td>POINT (-85.27972 35.043663)</td>\n      <td>(35.043663, -85.279720)</td>\n      <td>0</td>\n      <td>2023</td>\n      <td>9</td>\n      <td>27</td>\n      <td>20</td>\n      <td>2</td>\n    </tr>\n    <tr>\n      <th>4</th>\n      <td>23-108143</td>\n      <td>2023-10-04 16:57:00</td>\n      <td>17.0</td>\n      <td>Mccallie Ave</td>\n      <td>NaN</td>\n      <td>Chattanooga</td>\n      <td>Hamilton</td>\n      <td>S Willow St</td>\n      <td>NaN</td>\n      <td>1</td>\n      <td>...</td>\n      <td>35.034847</td>\n      <td>-85.271845</td>\n      <td>POINT (-85.271845 35.034847)</td>\n      <td>(35.034847, -85.271845)</td>\n      <td>4</td>\n      <td>2023</td>\n      <td>10</td>\n      <td>4</td>\n      <td>16</td>\n      <td>2</td>\n    </tr>\n    <tr>\n      <th>...</th>\n      <td>...</td>\n      <td>...</td>\n      <td>...</td>\n      <td>...</td>\n      <td>...</td>\n      <td>...</td>\n      <td>...</td>\n      <td>...</td>\n      <td>...</td>\n      <td>...</td>\n      <td>...</td>\n      <td>...</td>\n      <td>...</td>\n      <td>...</td>\n      <td>...</td>\n      <td>...</td>\n      <td>...</td>\n      <td>...</td>\n      <td>...</td>\n      <td>...</td>\n      <td>...</td>\n    </tr>\n    <tr>\n      <th>629</th>\n      <td>23-093329</td>\n      <td>2023-08-26 13:00:00</td>\n      <td>13.0</td>\n      <td>727 E 11th St</td>\n      <td>SR-700</td>\n      <td>Chattanooga</td>\n      <td>Hamilton</td>\n      <td>Peeples Street</td>\n      <td>NaN</td>\n      <td>1</td>\n      <td>...</td>\n      <td>35.040477</td>\n      <td>-85.299892</td>\n      <td>POINT (-85.299892 35.040477)</td>\n      <td>(35.040477, -85.299892)</td>\n      <td>4</td>\n      <td>2023</td>\n      <td>8</td>\n      <td>26</td>\n      <td>13</td>\n      <td>5</td>\n    </tr>\n    <tr>\n      <th>630</th>\n      <td>23-096050</td>\n      <td>2023-09-01 12:45:00</td>\n      <td>13.0</td>\n      <td>4700 Midland Pike</td>\n      <td>NaN</td>\n      <td>Chattanooga</td>\n      <td>Hamilton</td>\n      <td>N Parkdale Ave</td>\n      <td>NaN</td>\n      <td>1</td>\n      <td>...</td>\n      <td>35.027370</td>\n      <td>-85.224889</td>\n      <td>POINT (-85.224889 35.02737)</td>\n      <td>(35.027370, -85.224889)</td>\n      <td>4</td>\n      <td>2023</td>\n      <td>9</td>\n      <td>1</td>\n      <td>12</td>\n      <td>4</td>\n    </tr>\n    <tr>\n      <th>631</th>\n      <td>23-097228</td>\n      <td>2023-09-05 10:56:00</td>\n      <td>11.0</td>\n      <td>1700 Gunbarrel Rd</td>\n      <td>NaN</td>\n      <td>Chattanooga</td>\n      <td>Hamilton</td>\n      <td>Crane Rd</td>\n      <td>NaN</td>\n      <td>1</td>\n      <td>...</td>\n      <td>35.021618</td>\n      <td>-85.160209</td>\n      <td>POINT (-85.160209 35.021618)</td>\n      <td>(35.021618, -85.160209)</td>\n      <td>4</td>\n      <td>2023</td>\n      <td>9</td>\n      <td>5</td>\n      <td>10</td>\n      <td>1</td>\n    </tr>\n    <tr>\n      <th>632</th>\n      <td>23-098315</td>\n      <td>2023-09-08 06:25:00</td>\n      <td>6.5</td>\n      <td>1300 Central Ave</td>\n      <td>SR-1300</td>\n      <td>Chattanooga</td>\n      <td>Hamilton</td>\n      <td>E 13th St</td>\n      <td>NaN</td>\n      <td>0</td>\n      <td>...</td>\n      <td>35.033943</td>\n      <td>-85.295302</td>\n      <td>POINT (-85.295302 35.033943)</td>\n      <td>(35.033943, -85.295302)</td>\n      <td>2</td>\n      <td>2023</td>\n      <td>9</td>\n      <td>8</td>\n      <td>6</td>\n      <td>4</td>\n    </tr>\n    <tr>\n      <th>633</th>\n      <td>23-022943</td>\n      <td>2023-03-04 20:47:00</td>\n      <td>21.0</td>\n      <td>311 Broad St</td>\n      <td>NaN</td>\n      <td>Chattanooga</td>\n      <td>Hamilton</td>\n      <td>W 3rd St</td>\n      <td>NaN</td>\n      <td>1</td>\n      <td>...</td>\n      <td>35.012954</td>\n      <td>-85.228277</td>\n      <td>POINT (-85.228277 35.012954)</td>\n      <td>(35.012954, -85.228277)</td>\n      <td>0</td>\n      <td>2023</td>\n      <td>3</td>\n      <td>4</td>\n      <td>20</td>\n      <td>5</td>\n    </tr>\n  </tbody>\n</table>\n<p>634 rows × 32 columns</p>\n</div>"
     },
     "execution_count": 72,
     "metadata": {},
     "output_type": "execute_result"
    }
   ],
   "source": [
    "df\n",
    "\n"
   ],
   "metadata": {
    "collapsed": false,
    "ExecuteTime": {
     "end_time": "2023-12-17T17:56:12.291214Z",
     "start_time": "2023-12-17T17:56:12.285338Z"
    }
   },
   "id": "e485a733a71931b1"
  },
  {
   "cell_type": "code",
   "execution_count": 103,
   "outputs": [
    {
     "data": {
      "text/plain": "         Time Num   Mile Post  Hit and Run       fatal  EMSTransport  \\\ncount  619.000000   24.000000   634.000000  634.000000    634.000000   \nmean    14.470921   55.350000     0.329653    0.063091      0.604101   \nstd      5.852208   82.022844     0.470458    0.243319      0.489429   \nmin      0.500000    0.000000     0.000000    0.000000      0.000000   \n25%     10.500000    1.000000     0.000000    0.000000      0.000000   \n50%     15.500000    1.000000     0.000000    0.000000      1.000000   \n75%     19.000000  177.050000     1.000000    0.000000      1.000000   \nmax     24.000000  183.200000     1.000000    1.000000      1.000000   \n\n       Involved Placarded Truck  Posted Speed  Total Vehicles Involved  \\\ncount                634.000000    582.000000               634.000000   \nmean                   0.001577     31.451890                 1.029968   \nstd                    0.039715     10.617602                 0.219257   \nmin                    0.000000     15.000000                 1.000000   \n25%                    0.000000     25.000000                 1.000000   \n50%                    0.000000     30.000000                 1.000000   \n75%                    0.000000     40.000000                 1.000000   \nmax                    1.000000     65.000000                 4.000000   \n\n       pedestrian  bicycle        drug        etoh    Latitude   Longitude  \\\ncount       634.0    634.0  600.000000  602.000000  634.000000  634.000000   \nmean          1.0      0.0    0.038333    0.117940   35.049078  -85.254170   \nstd           0.0      0.0    0.192160    0.322806    0.038036    0.063136   \nmin           1.0      0.0    0.000000    0.000000   34.985076  -85.390573   \n25%           1.0      0.0    0.000000    0.000000   35.023370  -85.305750   \n50%           1.0      0.0    0.000000    0.000000   35.043440  -85.271638   \n75%           1.0      0.0    0.000000    0.000000   35.060733  -85.218694   \nmax           1.0      0.0    1.000000    1.000000   35.187101  -85.055304   \n\n              year       month         day        hour  day_of_week  \ncount   634.000000  634.000000  634.000000  634.000000   634.000000  \nmean   2020.692429    6.375394   15.058360   13.500000     2.826498  \nstd       1.697979    3.591867    8.881246    6.219586     1.880689  \nmin    2018.000000    1.000000    1.000000    0.000000     0.000000  \n25%    2019.000000    3.000000    7.000000    9.000000     1.000000  \n50%    2021.000000    6.000000   15.000000   14.500000     3.000000  \n75%    2022.000000   10.000000   23.000000   19.000000     4.000000  \nmax    2023.000000   12.000000   31.000000   23.000000     6.000000  ",
      "text/html": "<div>\n<style scoped>\n    .dataframe tbody tr th:only-of-type {\n        vertical-align: middle;\n    }\n\n    .dataframe tbody tr th {\n        vertical-align: top;\n    }\n\n    .dataframe thead th {\n        text-align: right;\n    }\n</style>\n<table border=\"1\" class=\"dataframe\">\n  <thead>\n    <tr style=\"text-align: right;\">\n      <th></th>\n      <th>Time Num</th>\n      <th>Mile Post</th>\n      <th>Hit and Run</th>\n      <th>fatal</th>\n      <th>EMSTransport</th>\n      <th>Involved Placarded Truck</th>\n      <th>Posted Speed</th>\n      <th>Total Vehicles Involved</th>\n      <th>pedestrian</th>\n      <th>bicycle</th>\n      <th>drug</th>\n      <th>etoh</th>\n      <th>Latitude</th>\n      <th>Longitude</th>\n      <th>year</th>\n      <th>month</th>\n      <th>day</th>\n      <th>hour</th>\n      <th>day_of_week</th>\n    </tr>\n  </thead>\n  <tbody>\n    <tr>\n      <th>count</th>\n      <td>619.000000</td>\n      <td>24.000000</td>\n      <td>634.000000</td>\n      <td>634.000000</td>\n      <td>634.000000</td>\n      <td>634.000000</td>\n      <td>582.000000</td>\n      <td>634.000000</td>\n      <td>634.0</td>\n      <td>634.0</td>\n      <td>600.000000</td>\n      <td>602.000000</td>\n      <td>634.000000</td>\n      <td>634.000000</td>\n      <td>634.000000</td>\n      <td>634.000000</td>\n      <td>634.000000</td>\n      <td>634.000000</td>\n      <td>634.000000</td>\n    </tr>\n    <tr>\n      <th>mean</th>\n      <td>14.470921</td>\n      <td>55.350000</td>\n      <td>0.329653</td>\n      <td>0.063091</td>\n      <td>0.604101</td>\n      <td>0.001577</td>\n      <td>31.451890</td>\n      <td>1.029968</td>\n      <td>1.0</td>\n      <td>0.0</td>\n      <td>0.038333</td>\n      <td>0.117940</td>\n      <td>35.049078</td>\n      <td>-85.254170</td>\n      <td>2020.692429</td>\n      <td>6.375394</td>\n      <td>15.058360</td>\n      <td>13.500000</td>\n      <td>2.826498</td>\n    </tr>\n    <tr>\n      <th>std</th>\n      <td>5.852208</td>\n      <td>82.022844</td>\n      <td>0.470458</td>\n      <td>0.243319</td>\n      <td>0.489429</td>\n      <td>0.039715</td>\n      <td>10.617602</td>\n      <td>0.219257</td>\n      <td>0.0</td>\n      <td>0.0</td>\n      <td>0.192160</td>\n      <td>0.322806</td>\n      <td>0.038036</td>\n      <td>0.063136</td>\n      <td>1.697979</td>\n      <td>3.591867</td>\n      <td>8.881246</td>\n      <td>6.219586</td>\n      <td>1.880689</td>\n    </tr>\n    <tr>\n      <th>min</th>\n      <td>0.500000</td>\n      <td>0.000000</td>\n      <td>0.000000</td>\n      <td>0.000000</td>\n      <td>0.000000</td>\n      <td>0.000000</td>\n      <td>15.000000</td>\n      <td>1.000000</td>\n      <td>1.0</td>\n      <td>0.0</td>\n      <td>0.000000</td>\n      <td>0.000000</td>\n      <td>34.985076</td>\n      <td>-85.390573</td>\n      <td>2018.000000</td>\n      <td>1.000000</td>\n      <td>1.000000</td>\n      <td>0.000000</td>\n      <td>0.000000</td>\n    </tr>\n    <tr>\n      <th>25%</th>\n      <td>10.500000</td>\n      <td>1.000000</td>\n      <td>0.000000</td>\n      <td>0.000000</td>\n      <td>0.000000</td>\n      <td>0.000000</td>\n      <td>25.000000</td>\n      <td>1.000000</td>\n      <td>1.0</td>\n      <td>0.0</td>\n      <td>0.000000</td>\n      <td>0.000000</td>\n      <td>35.023370</td>\n      <td>-85.305750</td>\n      <td>2019.000000</td>\n      <td>3.000000</td>\n      <td>7.000000</td>\n      <td>9.000000</td>\n      <td>1.000000</td>\n    </tr>\n    <tr>\n      <th>50%</th>\n      <td>15.500000</td>\n      <td>1.000000</td>\n      <td>0.000000</td>\n      <td>0.000000</td>\n      <td>1.000000</td>\n      <td>0.000000</td>\n      <td>30.000000</td>\n      <td>1.000000</td>\n      <td>1.0</td>\n      <td>0.0</td>\n      <td>0.000000</td>\n      <td>0.000000</td>\n      <td>35.043440</td>\n      <td>-85.271638</td>\n      <td>2021.000000</td>\n      <td>6.000000</td>\n      <td>15.000000</td>\n      <td>14.500000</td>\n      <td>3.000000</td>\n    </tr>\n    <tr>\n      <th>75%</th>\n      <td>19.000000</td>\n      <td>177.050000</td>\n      <td>1.000000</td>\n      <td>0.000000</td>\n      <td>1.000000</td>\n      <td>0.000000</td>\n      <td>40.000000</td>\n      <td>1.000000</td>\n      <td>1.0</td>\n      <td>0.0</td>\n      <td>0.000000</td>\n      <td>0.000000</td>\n      <td>35.060733</td>\n      <td>-85.218694</td>\n      <td>2022.000000</td>\n      <td>10.000000</td>\n      <td>23.000000</td>\n      <td>19.000000</td>\n      <td>4.000000</td>\n    </tr>\n    <tr>\n      <th>max</th>\n      <td>24.000000</td>\n      <td>183.200000</td>\n      <td>1.000000</td>\n      <td>1.000000</td>\n      <td>1.000000</td>\n      <td>1.000000</td>\n      <td>65.000000</td>\n      <td>4.000000</td>\n      <td>1.0</td>\n      <td>0.0</td>\n      <td>1.000000</td>\n      <td>1.000000</td>\n      <td>35.187101</td>\n      <td>-85.055304</td>\n      <td>2023.000000</td>\n      <td>12.000000</td>\n      <td>31.000000</td>\n      <td>23.000000</td>\n      <td>6.000000</td>\n    </tr>\n  </tbody>\n</table>\n</div>"
     },
     "execution_count": 103,
     "metadata": {},
     "output_type": "execute_result"
    }
   ],
   "source": [
    "df.describe()"
   ],
   "metadata": {
    "collapsed": false,
    "ExecuteTime": {
     "end_time": "2023-12-19T17:08:55.044996Z",
     "start_time": "2023-12-19T17:08:55.011749Z"
    }
   },
   "id": "56aff5eae0cf3dcd"
  },
  {
   "cell_type": "code",
   "execution_count": 108,
   "outputs": [
    {
     "data": {
      "text/plain": "0.0    531\n1.0     71\nName: etoh, dtype: int64"
     },
     "execution_count": 108,
     "metadata": {},
     "output_type": "execute_result"
    }
   ],
   "source": [
    "# COUNT INCIDENTS WHERE ALCOHOL OR DRUGS WERE INVOLVED\n",
    "df['etoh'].value_counts()\n",
    "\n",
    "\n",
    "\n"
   ],
   "metadata": {
    "collapsed": false,
    "ExecuteTime": {
     "end_time": "2023-12-19T23:50:43.503440Z",
     "start_time": "2023-12-19T23:50:43.497367Z"
    }
   },
   "id": "a7ba9f185fb52333"
  },
  {
   "cell_type": "code",
   "execution_count": 109,
   "outputs": [
    {
     "data": {
      "text/plain": "0.0    577\n1.0     23\nName: drug, dtype: int64"
     },
     "execution_count": 109,
     "metadata": {},
     "output_type": "execute_result"
    }
   ],
   "source": [
    "df['drug'].value_counts()\n"
   ],
   "metadata": {
    "collapsed": false,
    "ExecuteTime": {
     "end_time": "2023-12-19T23:50:57.490018Z",
     "start_time": "2023-12-19T23:50:57.477563Z"
    }
   },
   "id": "674cc5d0c58946f1"
  },
  {
   "cell_type": "code",
   "execution_count": null,
   "outputs": [],
   "source": [],
   "metadata": {
    "collapsed": false
   },
   "id": "b1a2e63cd954a99c"
  }
 ],
 "metadata": {
  "kernelspec": {
   "display_name": "Python 3",
   "language": "python",
   "name": "python3"
  },
  "language_info": {
   "codemirror_mode": {
    "name": "ipython",
    "version": 2
   },
   "file_extension": ".py",
   "mimetype": "text/x-python",
   "name": "python",
   "nbconvert_exporter": "python",
   "pygments_lexer": "ipython2",
   "version": "2.7.6"
  }
 },
 "nbformat": 4,
 "nbformat_minor": 5
}
